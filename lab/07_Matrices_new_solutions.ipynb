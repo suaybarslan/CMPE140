{
 "cells": [
  {
   "cell_type": "markdown",
   "id": "bd812494",
   "metadata": {},
   "source": [
    "# QUESTION 1"
   ]
  },
  {
   "cell_type": "markdown",
   "id": "c87a1116",
   "metadata": {},
   "source": [
    "You are supposed to write a function named **square_donut** that takes two arguments **n** and **x** and does the following:\n",
    "\n",
    "- It should create a square matrix of size n.\n",
    "- The outer x by x squares of the matrix should be filled with 1's, while the square hole in the middle should be all zeros.\n",
    "- If **x** is greater than or equal to the half of **n**, it should return **\"edge too wide\"** and stop.\n",
    "\n",
    "The first thing **square_donut** does should be checking if **x** is greater than or equal to the half of **n**.\n",
    "\n",
    "If not, it should create a matrix of size **n**, filled with 1's.\n",
    "\n",
    "Only thing left to do is to subset this matrix and convert the 1's to 0's.\n",
    "\n",
    "For example:\n",
    "```R\n",
    "square_donut(7, 2)\n",
    "```\n",
    "returns\n",
    "```\n",
    "1\t1\t1\t1\t1\t1\t1\n",
    "1\t1\t1\t1\t1\t1\t1\n",
    "1\t1\t0\t0\t0\t1\t1\n",
    "1\t1\t0\t0\t0\t1\t1\n",
    "1\t1\t0\t0\t0\t1\t1\n",
    "1\t1\t1\t1\t1\t1\t1\n",
    "1\t1\t1\t1\t1\t1\t1\n",
    "```\n",
    "and\n",
    "\n",
    "```R\n",
    "square_donut(6, 3)\n",
    "```\n",
    "returns\n",
    "```\n",
    "'edge too wide'\n",
    "```"
   ]
  },
  {
   "cell_type": "markdown",
   "id": "84dba163",
   "metadata": {},
   "source": [
    "# SOLUTION 1"
   ]
  },
  {
   "cell_type": "code",
   "execution_count": null,
   "id": "13b7cf9c",
   "metadata": {},
   "outputs": [],
   "source": [
    "square_donut <- function(n, x)\n",
    "{\n",
    "    if (x >= n / 2)\n",
    "    {\n",
    "        return(\"edge too wide\")\n",
    "    }\n",
    "    \n",
    "    mat1 <- matrix(1, nrow = n, ncol = n) # create matrix of 1's\n",
    "    startx <- x + 1 # start index of 0's\n",
    "    endx <- n - x # end index of 0's\n",
    "    mat1[startx:endx, startx:endx] <- 0 # create the hole of 0's\n",
    "    \n",
    "    return(mat1)\n",
    "}\n",
    "\n",
    "square_donut(7, 2)\n",
    "square_donut(6, 3)"
   ]
  },
  {
   "cell_type": "markdown",
   "id": "582dce7f",
   "metadata": {},
   "source": [
    "# QUESTION 2"
   ]
  },
  {
   "cell_type": "markdown",
   "id": "5be94bf8",
   "metadata": {},
   "source": [
    "Write a function called **minefield** that takes two inputs, **size** and **density** and creates a square matrix of the given size. The created matrix represents a minefield. The cells should take only two values: if the value is 1, it means there is a mine there and If the value is 0, it means there is no mine. The default values of **size** and **density** should be 5 and 0.2 respectively.\n",
    "\n",
    "The function should fill the matrix according to **density**, which represents the proportion of the cells with mines. When filling the cells, you should use **density** as the probability of any cell containing a mine.\n",
    "\n",
    "Start by setting the seed to 1.\n",
    "\n",
    "The function should first create a vector of 1's and 0's, using the **sample** function and its parameter **prob**.\n",
    "\n",
    "Once you attain this vector, you can easily convert it to a matrix.\n",
    "\n",
    "Example output:\n",
    "\n",
    "```R\n",
    "field1 <- minefield()\n",
    "field1\n",
    "```\n",
    "```\n",
    "0    1    0    0    1\n",
    "0    1    0    0    0\n",
    "0    0    0    1    0\n",
    "1    0    0    0    0\n",
    "0    0    0    0    0\n",
    "\n",
    "```"
   ]
  },
  {
   "cell_type": "markdown",
   "id": "2366afee",
   "metadata": {},
   "source": [
    "# SOLUTION 2"
   ]
  },
  {
   "cell_type": "code",
   "execution_count": null,
   "id": "cfb31789",
   "metadata": {},
   "outputs": [],
   "source": [
    "minefield <- function(size = 5, density = 0.2)\n",
    "{\n",
    "  set.seed(1)\n",
    "  vec <- sample(1:0,\n",
    "                size^2,\n",
    "                replace = T,\n",
    "                prob = c(density, 1 - density))\n",
    "  mat <- matrix(vec, nrow = size)\n",
    "  return(mat)\n",
    "}\n",
    "\n",
    "\n",
    "field1 <- minefield()\n",
    "field1"
   ]
  },
  {
   "cell_type": "markdown",
   "id": "b6ddda63",
   "metadata": {},
   "source": [
    "# QUESTION 3"
   ]
  },
  {
   "cell_type": "markdown",
   "id": "088c979d",
   "metadata": {},
   "source": [
    "Now write a function called **mine_detector** that takes 3 arguments:\n",
    "\n",
    "- **rw**: An integer for the row index\n",
    "- **cl**: An integer for the column index\n",
    "- **field**: A matrix for the minefield. Default value is the field1 global object\n",
    "\n",
    "The function should first retrieve the value of the cell at the rw and cl indices.\n",
    "\n",
    "If the value is equal to 1, it's a hit, and the function should return 9 (that represents a hit).\n",
    "Else, it's a miss, then it should return the number of neighbouring hits. In other words, it should return the count of 1's in the neighbouring eight cells of the target.\n",
    "\n",
    "The function should first check the value in the cell. \n",
    "\n",
    "Then you should write an if statement, which should return 9 if the value is equal to 1. \n",
    "\n",
    "If not, it should calculate the number of mines next to the cell and return that.\n",
    "\n",
    "You can do that by subsetting a 3 by 3 square matrix from the original field and calculating its sum. \n",
    "\n",
    "Just be careful when the cell is on the edge because then the number of neighboring cells is less than 8.\n",
    "\n",
    "Some example outputs are given below:\n",
    "\n",
    "```R\n",
    "mine_detector(1,1)\n",
    "[1] 2\n",
    "\n",
    "mine_detector(2,2)\n",
    "[1] 9\n",
    "\n",
    "mine_detector(2,3)\n",
    "[1] 3\n",
    "```"
   ]
  },
  {
   "cell_type": "markdown",
   "id": "abb3bb12",
   "metadata": {},
   "source": [
    "# SOLUTION 3"
   ]
  },
  {
   "cell_type": "code",
   "execution_count": null,
   "id": "d47d3299",
   "metadata": {},
   "outputs": [],
   "source": [
    "mine_detector <- function(rw, cl, field = field1)\n",
    "{\n",
    "    val <- field[rw, cl] # get the value\n",
    "        \n",
    "    if (val == 1) # there is a hit\n",
    "    {\n",
    "        return(9)\n",
    "    }\n",
    "    else # there is a miss\n",
    "    {\n",
    "        size <- nrow(field) # max index allowed\n",
    "\n",
    "        rws <- (-1):1 + rw # neighbouring row indices\n",
    "        rws <- rws[rws > 0 & rws <= size] # filter between 1 and size\n",
    "        \n",
    "        cls <- (-1):1 + cl  # neighbouring column indices\n",
    "        cls <- cls[cls > 0 & cls <= size] # filter between 1 and size\n",
    "        \n",
    "        sub <- field[rws, cls] # subset the neighours\n",
    "        return(sum(sub)) # return the sum of neighbouring hits\n",
    "    }\n",
    "}\n",
    "\n",
    "mine_detector(1,1)\n",
    "mine_detector(2,2)\n",
    "mine_detector(2,3)"
   ]
  },
  {
   "cell_type": "markdown",
   "id": "702f22ce",
   "metadata": {},
   "source": [
    "# QUESTION 4"
   ]
  },
  {
   "cell_type": "markdown",
   "id": "2badbda7",
   "metadata": {},
   "source": [
    "You are given a matrix generator function as such:\n",
    "\n",
    "```R\n",
    "matrix_gen <- function(maxx = 100, nr = 5, nc = 5)\n",
    "{\n",
    "    matrix(sample(maxx, nr * nc, replace = T), nrow = nr) \n",
    "}\n",
    "```\n",
    "\n",
    "Write a function called **max_path** that will take a matrix **matt** as input and return the maximum sum to be attained when a path is selected from the first row to the end, in each step of which you can select any of the adjacent cells (straight down, down left, down right) on the next row.\n",
    "\n",
    "First set the seed to 1234.\n",
    "\n",
    "You can solve this question by tracking a vector whose length is equal to the number of columns in  **matt**.\n",
    "\n",
    "You can initialize this vector with the values in the first row.\n",
    "\n",
    "Then, with the help of a for loop, you can update this vector for every row, starting from the second one.\n",
    "\n",
    "In order to update this vector, you need to sum up the values in the current row with the final form of the vector that you track, which now should contain the values of the highest path (a path that goes from the first row to the previous one, following the highest possible value in each row) for each cell. \n",
    "\n",
    "When you come to the last step, you will obtain a summation of highest possible paths for each cell in the last row.\n",
    "\n",
    "After that, you can just return the maximum value in that vector.\n",
    "\n",
    "In order to decide on the higest path, you can use **pmax**, which takes 2 or more vectors as input, compares the values in each index across all vectors and returns a vector of the same length, comprised of the highest possible value for each element.\n",
    "\n"
   ]
  },
  {
   "cell_type": "markdown",
   "id": "bbc392e7",
   "metadata": {},
   "source": [
    "# SOLUTION 4"
   ]
  },
  {
   "cell_type": "code",
   "execution_count": null,
   "id": "38a42fcc",
   "metadata": {},
   "outputs": [],
   "source": [
    "matrix_gen <- function(maxx = 100, nr = 5, nc = 5)\n",
    "{\n",
    "    matrix(sample(maxx, nr * nc, replace = T), nrow = nr)\n",
    "}\n",
    "\n",
    "max_path <- function(matt)\n",
    "{\n",
    "    # we will track a vector length of which is equal to the number of the columns\n",
    "    # and that shows the max sums for each cell in the current row up to that row\n",
    "    # we take the first row as the initial value for this vector (the values show the maximum sum for each column up to that point!)\n",
    "    sums_vec <- matt[1,]\n",
    "\n",
    "    # get the dimensions of the original matrix. can also be done with dim()\n",
    "    nc <- ncol(matt)\n",
    "    nr <- nrow(matt)\n",
    "    \n",
    "    # across rows, starting from the second one\n",
    "    # on the first row the max values up to that row are the values themselves\n",
    "    for (roww in 2:nr) \n",
    "    {\n",
    "        # takes three vector:\n",
    "        # the original sums_vec, the sums_vec offset to left and offset to right\n",
    "        # this is done by adding a zero to left/trimming from right \n",
    "        # or adding a zero to right/trimming from left\n",
    "        # why? we can come to a cell from straight up, left up or right up\n",
    "        # so for each cell in the row we should the select the max of these three values\n",
    "        # pmax does it pairwise (or triple wise in this case)\n",
    "        # this is the critical part of the code\n",
    "        max_of_sums_vec <- pmax(c(0, sums_vec[-nc]), sums_vec, c(sums_vec[-1], 0))\n",
    "\n",
    "        # update the sums vec: add the maximum sums vector (that shows the maximum sums up to that row for each cell)\n",
    "        # to the current row\n",
    "        sums_vec <- matt[roww,] + max_of_sums_vec\n",
    "    }\n",
    "\n",
    "    # we have come to the last row\n",
    "    # now just take the maximum of the last sums_vec\n",
    "    maxval <- max(sums_vec)\n",
    "\n",
    "    return(maxval)\n",
    "\n",
    "}\n",
    "\n",
    "set.seed(1234)\n",
    "mat1 <- matrix_gen(10, 3, 3)\n",
    "mat1\n",
    "max_path(mat1)\n",
    "\n",
    "set.seed(1234)\n",
    "mat2 <- matrix_gen(10, 5, 5)\n",
    "mat2\n",
    "max_path(mat2)"
   ]
  }
 ],
 "metadata": {
  "kernelspec": {
   "display_name": "R",
   "language": "R",
   "name": "ir"
  },
  "language_info": {
   "codemirror_mode": "r",
   "file_extension": ".r",
   "mimetype": "text/x-r-source",
   "name": "R",
   "pygments_lexer": "r",
   "version": "3.6.1"
  }
 },
 "nbformat": 4,
 "nbformat_minor": 5
}
